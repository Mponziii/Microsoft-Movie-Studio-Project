{
 "cells": [
  {
   "cell_type": "markdown",
   "metadata": {},
   "source": [
    "# Microsoft Movie Studio Projest\n",
    "\n",
    "## 1.Business Understanding"
   ]
  },
  {
   "cell_type": "markdown",
   "metadata": {},
   "source": [
    "Microsoft has started a new movie studio and to know which movies do the best they have enlisted services of a data scientist.To come up with results that will enable the movie studio to make this decision, I as the data scientist will look at available resources such as the imdb to come up with observations and recommendations that are relevant to MIcrosoft"
   ]
  },
  {
   "cell_type": "markdown",
   "metadata": {},
   "source": [
    "# 2.Data Understanding\n",
    "\n",
    "For this operation we will be looking mainly at two sources of data namely the IMDb and The Box Office Mojo data which cointain alot of info on movies from cast all the way to budget"
   ]
  },
  {
   "cell_type": "code",
   "execution_count": 118,
   "metadata": {},
   "outputs": [],
   "source": [
    "# below we will import all the libraries which will enable us to handle our data\n",
    "import sqlite3\n",
    "import pandas as pd\n",
    "import numpy as np\n",
    "import seaborn as sns\n",
    "import matplotlib.pyplot as plt\n",
    "import zipfile\n",
    "sns.set_theme(style=\"darkgrid\")\n"
   ]
  },
  {
   "cell_type": "markdown",
   "metadata": {},
   "source": [
    "Since the data in IMDb is zipped it has to be unzipped first"
   ]
  },
  {
   "cell_type": "code",
   "execution_count": 119,
   "metadata": {},
   "outputs": [],
   "source": [
    "# Unzip using zipfile\n",
    "path = \"zippedData/im.db.zip\"\n",
    "with zipfile.ZipFile(path, 'r') as zip_loc:\n",
    "    zip_loc.extractall('zara')"
   ]
  },
  {
   "cell_type": "markdown",
   "metadata": {},
   "source": [
    "Now we can open the the database using sqlite3"
   ]
  },
  {
   "cell_type": "code",
   "execution_count": 120,
   "metadata": {},
   "outputs": [
    {
     "data": {
      "text/html": [
       "<div>\n",
       "<style scoped>\n",
       "    .dataframe tbody tr th:only-of-type {\n",
       "        vertical-align: middle;\n",
       "    }\n",
       "\n",
       "    .dataframe tbody tr th {\n",
       "        vertical-align: top;\n",
       "    }\n",
       "\n",
       "    .dataframe thead th {\n",
       "        text-align: right;\n",
       "    }\n",
       "</style>\n",
       "<table border=\"1\" class=\"dataframe\">\n",
       "  <thead>\n",
       "    <tr style=\"text-align: right;\">\n",
       "      <th></th>\n",
       "      <th>name</th>\n",
       "    </tr>\n",
       "  </thead>\n",
       "  <tbody>\n",
       "    <tr>\n",
       "      <th>0</th>\n",
       "      <td>movie_basics</td>\n",
       "    </tr>\n",
       "    <tr>\n",
       "      <th>1</th>\n",
       "      <td>directors</td>\n",
       "    </tr>\n",
       "    <tr>\n",
       "      <th>2</th>\n",
       "      <td>known_for</td>\n",
       "    </tr>\n",
       "    <tr>\n",
       "      <th>3</th>\n",
       "      <td>movie_akas</td>\n",
       "    </tr>\n",
       "    <tr>\n",
       "      <th>4</th>\n",
       "      <td>movie_ratings</td>\n",
       "    </tr>\n",
       "    <tr>\n",
       "      <th>5</th>\n",
       "      <td>persons</td>\n",
       "    </tr>\n",
       "    <tr>\n",
       "      <th>6</th>\n",
       "      <td>principals</td>\n",
       "    </tr>\n",
       "    <tr>\n",
       "      <th>7</th>\n",
       "      <td>writers</td>\n",
       "    </tr>\n",
       "  </tbody>\n",
       "</table>\n",
       "</div>"
      ],
      "text/plain": [
       "            name\n",
       "0   movie_basics\n",
       "1      directors\n",
       "2      known_for\n",
       "3     movie_akas\n",
       "4  movie_ratings\n",
       "5        persons\n",
       "6     principals\n",
       "7        writers"
      ]
     },
     "execution_count": 120,
     "metadata": {},
     "output_type": "execute_result"
    }
   ],
   "source": [
    "#Make a connection to the database\n",
    "conn = sqlite3.connect(\"zara/im.db\")\n",
    "\n",
    "#USing pandas get the table names in the database\n",
    "q =\"\"\"SELECT name \n",
    "      FROM sqlite_master \n",
    "      WHERE type = 'table'\"\"\";\n",
    "\n",
    "pd.read_sql(q, conn)\n"
   ]
  },
  {
   "cell_type": "markdown",
   "metadata": {},
   "source": [
    "From the data base the most relevant tables to use are the movie_basics and movie_ratings.Lets take a look at the tables and familiarise ourselves with their content    "
   ]
  },
  {
   "cell_type": "code",
   "execution_count": 121,
   "metadata": {},
   "outputs": [
    {
     "data": {
      "text/html": [
       "<div>\n",
       "<style scoped>\n",
       "    .dataframe tbody tr th:only-of-type {\n",
       "        vertical-align: middle;\n",
       "    }\n",
       "\n",
       "    .dataframe tbody tr th {\n",
       "        vertical-align: top;\n",
       "    }\n",
       "\n",
       "    .dataframe thead th {\n",
       "        text-align: right;\n",
       "    }\n",
       "</style>\n",
       "<table border=\"1\" class=\"dataframe\">\n",
       "  <thead>\n",
       "    <tr style=\"text-align: right;\">\n",
       "      <th></th>\n",
       "      <th>movie_id</th>\n",
       "      <th>primary_title</th>\n",
       "      <th>original_title</th>\n",
       "      <th>start_year</th>\n",
       "      <th>runtime_minutes</th>\n",
       "      <th>genres</th>\n",
       "    </tr>\n",
       "  </thead>\n",
       "  <tbody>\n",
       "    <tr>\n",
       "      <th>0</th>\n",
       "      <td>tt0063540</td>\n",
       "      <td>Sunghursh</td>\n",
       "      <td>Sunghursh</td>\n",
       "      <td>2013</td>\n",
       "      <td>175.0</td>\n",
       "      <td>Action,Crime,Drama</td>\n",
       "    </tr>\n",
       "    <tr>\n",
       "      <th>1</th>\n",
       "      <td>tt0066787</td>\n",
       "      <td>One Day Before the Rainy Season</td>\n",
       "      <td>Ashad Ka Ek Din</td>\n",
       "      <td>2019</td>\n",
       "      <td>114.0</td>\n",
       "      <td>Biography,Drama</td>\n",
       "    </tr>\n",
       "    <tr>\n",
       "      <th>2</th>\n",
       "      <td>tt0069049</td>\n",
       "      <td>The Other Side of the Wind</td>\n",
       "      <td>The Other Side of the Wind</td>\n",
       "      <td>2018</td>\n",
       "      <td>122.0</td>\n",
       "      <td>Drama</td>\n",
       "    </tr>\n",
       "    <tr>\n",
       "      <th>3</th>\n",
       "      <td>tt0069204</td>\n",
       "      <td>Sabse Bada Sukh</td>\n",
       "      <td>Sabse Bada Sukh</td>\n",
       "      <td>2018</td>\n",
       "      <td>NaN</td>\n",
       "      <td>Comedy,Drama</td>\n",
       "    </tr>\n",
       "    <tr>\n",
       "      <th>4</th>\n",
       "      <td>tt0100275</td>\n",
       "      <td>The Wandering Soap Opera</td>\n",
       "      <td>La Telenovela Errante</td>\n",
       "      <td>2017</td>\n",
       "      <td>80.0</td>\n",
       "      <td>Comedy,Drama,Fantasy</td>\n",
       "    </tr>\n",
       "  </tbody>\n",
       "</table>\n",
       "</div>"
      ],
      "text/plain": [
       "    movie_id                    primary_title              original_title  \\\n",
       "0  tt0063540                        Sunghursh                   Sunghursh   \n",
       "1  tt0066787  One Day Before the Rainy Season             Ashad Ka Ek Din   \n",
       "2  tt0069049       The Other Side of the Wind  The Other Side of the Wind   \n",
       "3  tt0069204                  Sabse Bada Sukh             Sabse Bada Sukh   \n",
       "4  tt0100275         The Wandering Soap Opera       La Telenovela Errante   \n",
       "\n",
       "   start_year  runtime_minutes                genres  \n",
       "0        2013            175.0    Action,Crime,Drama  \n",
       "1        2019            114.0       Biography,Drama  \n",
       "2        2018            122.0                 Drama  \n",
       "3        2018              NaN          Comedy,Drama  \n",
       "4        2017             80.0  Comedy,Drama,Fantasy  "
      ]
     },
     "execution_count": 121,
     "metadata": {},
     "output_type": "execute_result"
    }
   ],
   "source": [
    "#Load the content of the table(columns and rows) from movie_basics\n",
    "#Load the first 5 rows\n",
    "pd.read_sql(\"\"\"SELECT * FROM movie_basics;\"\"\", conn).head()"
   ]
  },
  {
   "cell_type": "code",
   "execution_count": 122,
   "metadata": {},
   "outputs": [
    {
     "data": {
      "text/html": [
       "<div>\n",
       "<style scoped>\n",
       "    .dataframe tbody tr th:only-of-type {\n",
       "        vertical-align: middle;\n",
       "    }\n",
       "\n",
       "    .dataframe tbody tr th {\n",
       "        vertical-align: top;\n",
       "    }\n",
       "\n",
       "    .dataframe thead th {\n",
       "        text-align: right;\n",
       "    }\n",
       "</style>\n",
       "<table border=\"1\" class=\"dataframe\">\n",
       "  <thead>\n",
       "    <tr style=\"text-align: right;\">\n",
       "      <th></th>\n",
       "      <th>movie_id</th>\n",
       "      <th>averagerating</th>\n",
       "      <th>numvotes</th>\n",
       "    </tr>\n",
       "  </thead>\n",
       "  <tbody>\n",
       "    <tr>\n",
       "      <th>73851</th>\n",
       "      <td>tt9805820</td>\n",
       "      <td>8.1</td>\n",
       "      <td>25</td>\n",
       "    </tr>\n",
       "    <tr>\n",
       "      <th>73852</th>\n",
       "      <td>tt9844256</td>\n",
       "      <td>7.5</td>\n",
       "      <td>24</td>\n",
       "    </tr>\n",
       "    <tr>\n",
       "      <th>73853</th>\n",
       "      <td>tt9851050</td>\n",
       "      <td>4.7</td>\n",
       "      <td>14</td>\n",
       "    </tr>\n",
       "    <tr>\n",
       "      <th>73854</th>\n",
       "      <td>tt9886934</td>\n",
       "      <td>7.0</td>\n",
       "      <td>5</td>\n",
       "    </tr>\n",
       "    <tr>\n",
       "      <th>73855</th>\n",
       "      <td>tt9894098</td>\n",
       "      <td>6.3</td>\n",
       "      <td>128</td>\n",
       "    </tr>\n",
       "  </tbody>\n",
       "</table>\n",
       "</div>"
      ],
      "text/plain": [
       "        movie_id  averagerating  numvotes\n",
       "73851  tt9805820            8.1        25\n",
       "73852  tt9844256            7.5        24\n",
       "73853  tt9851050            4.7        14\n",
       "73854  tt9886934            7.0         5\n",
       "73855  tt9894098            6.3       128"
      ]
     },
     "execution_count": 122,
     "metadata": {},
     "output_type": "execute_result"
    }
   ],
   "source": [
    "#Load the last 5 rows from movie_ratings\n",
    "pd.read_sql(\"\"\"SELECT * FROM movie_ratings;\"\"\", conn).tail()"
   ]
  },
  {
   "cell_type": "markdown",
   "metadata": {},
   "source": [
    "From the looks of it have one-to-one relationship on the movie_id column which seems to be the primary key in both\n",
    "\n",
    "\n",
    "\n",
    "Now we look at the structure of the two tables"
   ]
  },
  {
   "cell_type": "code",
   "execution_count": 123,
   "metadata": {},
   "outputs": [
    {
     "name": "stdout",
     "output_type": "stream",
     "text": [
      "<class 'pandas.core.frame.DataFrame'>\n",
      "RangeIndex: 146144 entries, 0 to 146143\n",
      "Data columns (total 6 columns):\n",
      " #   Column           Non-Null Count   Dtype  \n",
      "---  ------           --------------   -----  \n",
      " 0   movie_id         146144 non-null  object \n",
      " 1   primary_title    146144 non-null  object \n",
      " 2   original_title   146123 non-null  object \n",
      " 3   start_year       146144 non-null  int64  \n",
      " 4   runtime_minutes  114405 non-null  float64\n",
      " 5   genres           140736 non-null  object \n",
      "dtypes: float64(1), int64(1), object(4)\n",
      "memory usage: 6.7+ MB\n"
     ]
    }
   ],
   "source": [
    "#use .info()\n",
    "pd.read_sql(\"\"\"SELECT * FROM movie_basics;\"\"\", conn).info()"
   ]
  },
  {
   "cell_type": "code",
   "execution_count": 124,
   "metadata": {},
   "outputs": [
    {
     "name": "stdout",
     "output_type": "stream",
     "text": [
      "<class 'pandas.core.frame.DataFrame'>\n",
      "RangeIndex: 73856 entries, 0 to 73855\n",
      "Data columns (total 3 columns):\n",
      " #   Column         Non-Null Count  Dtype  \n",
      "---  ------         --------------  -----  \n",
      " 0   movie_id       73856 non-null  object \n",
      " 1   averagerating  73856 non-null  float64\n",
      " 2   numvotes       73856 non-null  int64  \n",
      "dtypes: float64(1), int64(1), object(1)\n",
      "memory usage: 1.7+ MB\n"
     ]
    }
   ],
   "source": [
    "pd.read_sql(\"\"\"SELECT * FROM movie_ratings;\"\"\", conn).info()"
   ]
  },
  {
   "cell_type": "markdown",
   "metadata": {},
   "source": [
    "We can also take a look at the descriptive ststistics of the tables"
   ]
  },
  {
   "cell_type": "code",
   "execution_count": 125,
   "metadata": {},
   "outputs": [
    {
     "data": {
      "text/html": [
       "<div>\n",
       "<style scoped>\n",
       "    .dataframe tbody tr th:only-of-type {\n",
       "        vertical-align: middle;\n",
       "    }\n",
       "\n",
       "    .dataframe tbody tr th {\n",
       "        vertical-align: top;\n",
       "    }\n",
       "\n",
       "    .dataframe thead th {\n",
       "        text-align: right;\n",
       "    }\n",
       "</style>\n",
       "<table border=\"1\" class=\"dataframe\">\n",
       "  <thead>\n",
       "    <tr style=\"text-align: right;\">\n",
       "      <th></th>\n",
       "      <th>start_year</th>\n",
       "      <th>runtime_minutes</th>\n",
       "    </tr>\n",
       "  </thead>\n",
       "  <tbody>\n",
       "    <tr>\n",
       "      <th>count</th>\n",
       "      <td>146144.000000</td>\n",
       "      <td>114405.000000</td>\n",
       "    </tr>\n",
       "    <tr>\n",
       "      <th>mean</th>\n",
       "      <td>2014.621798</td>\n",
       "      <td>86.187247</td>\n",
       "    </tr>\n",
       "    <tr>\n",
       "      <th>std</th>\n",
       "      <td>2.733583</td>\n",
       "      <td>166.360590</td>\n",
       "    </tr>\n",
       "    <tr>\n",
       "      <th>min</th>\n",
       "      <td>2010.000000</td>\n",
       "      <td>1.000000</td>\n",
       "    </tr>\n",
       "    <tr>\n",
       "      <th>25%</th>\n",
       "      <td>2012.000000</td>\n",
       "      <td>70.000000</td>\n",
       "    </tr>\n",
       "    <tr>\n",
       "      <th>50%</th>\n",
       "      <td>2015.000000</td>\n",
       "      <td>87.000000</td>\n",
       "    </tr>\n",
       "    <tr>\n",
       "      <th>75%</th>\n",
       "      <td>2017.000000</td>\n",
       "      <td>99.000000</td>\n",
       "    </tr>\n",
       "    <tr>\n",
       "      <th>max</th>\n",
       "      <td>2115.000000</td>\n",
       "      <td>51420.000000</td>\n",
       "    </tr>\n",
       "  </tbody>\n",
       "</table>\n",
       "</div>"
      ],
      "text/plain": [
       "          start_year  runtime_minutes\n",
       "count  146144.000000    114405.000000\n",
       "mean     2014.621798        86.187247\n",
       "std         2.733583       166.360590\n",
       "min      2010.000000         1.000000\n",
       "25%      2012.000000        70.000000\n",
       "50%      2015.000000        87.000000\n",
       "75%      2017.000000        99.000000\n",
       "max      2115.000000     51420.000000"
      ]
     },
     "execution_count": 125,
     "metadata": {},
     "output_type": "execute_result"
    }
   ],
   "source": [
    "#Getting measures of central tendancies and dispersion\n",
    "pd.read_sql(\"\"\"SELECT * FROM movie_basics;\"\"\", conn).describe()"
   ]
  },
  {
   "cell_type": "code",
   "execution_count": 126,
   "metadata": {},
   "outputs": [
    {
     "data": {
      "text/html": [
       "<div>\n",
       "<style scoped>\n",
       "    .dataframe tbody tr th:only-of-type {\n",
       "        vertical-align: middle;\n",
       "    }\n",
       "\n",
       "    .dataframe tbody tr th {\n",
       "        vertical-align: top;\n",
       "    }\n",
       "\n",
       "    .dataframe thead th {\n",
       "        text-align: right;\n",
       "    }\n",
       "</style>\n",
       "<table border=\"1\" class=\"dataframe\">\n",
       "  <thead>\n",
       "    <tr style=\"text-align: right;\">\n",
       "      <th></th>\n",
       "      <th>averagerating</th>\n",
       "      <th>numvotes</th>\n",
       "    </tr>\n",
       "  </thead>\n",
       "  <tbody>\n",
       "    <tr>\n",
       "      <th>count</th>\n",
       "      <td>73856.000000</td>\n",
       "      <td>7.385600e+04</td>\n",
       "    </tr>\n",
       "    <tr>\n",
       "      <th>mean</th>\n",
       "      <td>6.332729</td>\n",
       "      <td>3.523662e+03</td>\n",
       "    </tr>\n",
       "    <tr>\n",
       "      <th>std</th>\n",
       "      <td>1.474978</td>\n",
       "      <td>3.029402e+04</td>\n",
       "    </tr>\n",
       "    <tr>\n",
       "      <th>min</th>\n",
       "      <td>1.000000</td>\n",
       "      <td>5.000000e+00</td>\n",
       "    </tr>\n",
       "    <tr>\n",
       "      <th>25%</th>\n",
       "      <td>5.500000</td>\n",
       "      <td>1.400000e+01</td>\n",
       "    </tr>\n",
       "    <tr>\n",
       "      <th>50%</th>\n",
       "      <td>6.500000</td>\n",
       "      <td>4.900000e+01</td>\n",
       "    </tr>\n",
       "    <tr>\n",
       "      <th>75%</th>\n",
       "      <td>7.400000</td>\n",
       "      <td>2.820000e+02</td>\n",
       "    </tr>\n",
       "    <tr>\n",
       "      <th>max</th>\n",
       "      <td>10.000000</td>\n",
       "      <td>1.841066e+06</td>\n",
       "    </tr>\n",
       "  </tbody>\n",
       "</table>\n",
       "</div>"
      ],
      "text/plain": [
       "       averagerating      numvotes\n",
       "count   73856.000000  7.385600e+04\n",
       "mean        6.332729  3.523662e+03\n",
       "std         1.474978  3.029402e+04\n",
       "min         1.000000  5.000000e+00\n",
       "25%         5.500000  1.400000e+01\n",
       "50%         6.500000  4.900000e+01\n",
       "75%         7.400000  2.820000e+02\n",
       "max        10.000000  1.841066e+06"
      ]
     },
     "execution_count": 126,
     "metadata": {},
     "output_type": "execute_result"
    }
   ],
   "source": [
    "pd.read_sql(\"\"\"SELECT * FROM movie_ratings;\"\"\", conn).describe()"
   ]
  },
  {
   "cell_type": "code",
   "execution_count": 127,
   "metadata": {},
   "outputs": [
    {
     "name": "stdout",
     "output_type": "stream",
     "text": [
      "The movie_basics table has 146144 rows and 6columns\n",
      "The movie_ratings table has 73856 rows and 3columns\n"
     ]
    }
   ],
   "source": [
    "#loking at the shape of the tables\n",
    "basic = pd.read_sql(\"\"\"SELECT * FROM movie_basics;\"\"\", conn)\n",
    "rate = pd.read_sql(\"\"\"SELECT * FROM movie_ratings;\"\"\", conn)\n",
    "\n",
    "print('The movie_basics table has ' + str(basic.shape[0]) + ' rows and ' + str(basic.shape[1]) + 'columns')\n",
    "print('The movie_ratings table has ' + str(rate.shape[0]) + ' rows and ' + str(rate.shape[1]) + 'columns')"
   ]
  },
  {
   "cell_type": "markdown",
   "metadata": {},
   "source": [
    "Another source of data is The Box Office Mojo csv file.Repeat the same process above on the file"
   ]
  },
  {
   "cell_type": "code",
   "execution_count": 128,
   "metadata": {},
   "outputs": [
    {
     "data": {
      "text/html": [
       "<div>\n",
       "<style scoped>\n",
       "    .dataframe tbody tr th:only-of-type {\n",
       "        vertical-align: middle;\n",
       "    }\n",
       "\n",
       "    .dataframe tbody tr th {\n",
       "        vertical-align: top;\n",
       "    }\n",
       "\n",
       "    .dataframe thead th {\n",
       "        text-align: right;\n",
       "    }\n",
       "</style>\n",
       "<table border=\"1\" class=\"dataframe\">\n",
       "  <thead>\n",
       "    <tr style=\"text-align: right;\">\n",
       "      <th></th>\n",
       "      <th>title</th>\n",
       "      <th>studio</th>\n",
       "      <th>domestic_gross</th>\n",
       "      <th>foreign_gross</th>\n",
       "      <th>year</th>\n",
       "    </tr>\n",
       "  </thead>\n",
       "  <tbody>\n",
       "    <tr>\n",
       "      <th>0</th>\n",
       "      <td>Toy Story 3</td>\n",
       "      <td>BV</td>\n",
       "      <td>415000000.0</td>\n",
       "      <td>652000000</td>\n",
       "      <td>2010</td>\n",
       "    </tr>\n",
       "    <tr>\n",
       "      <th>1</th>\n",
       "      <td>Alice in Wonderland (2010)</td>\n",
       "      <td>BV</td>\n",
       "      <td>334200000.0</td>\n",
       "      <td>691300000</td>\n",
       "      <td>2010</td>\n",
       "    </tr>\n",
       "    <tr>\n",
       "      <th>2</th>\n",
       "      <td>Harry Potter and the Deathly Hallows Part 1</td>\n",
       "      <td>WB</td>\n",
       "      <td>296000000.0</td>\n",
       "      <td>664300000</td>\n",
       "      <td>2010</td>\n",
       "    </tr>\n",
       "    <tr>\n",
       "      <th>3</th>\n",
       "      <td>Inception</td>\n",
       "      <td>WB</td>\n",
       "      <td>292600000.0</td>\n",
       "      <td>535700000</td>\n",
       "      <td>2010</td>\n",
       "    </tr>\n",
       "    <tr>\n",
       "      <th>4</th>\n",
       "      <td>Shrek Forever After</td>\n",
       "      <td>P/DW</td>\n",
       "      <td>238700000.0</td>\n",
       "      <td>513900000</td>\n",
       "      <td>2010</td>\n",
       "    </tr>\n",
       "    <tr>\n",
       "      <th>...</th>\n",
       "      <td>...</td>\n",
       "      <td>...</td>\n",
       "      <td>...</td>\n",
       "      <td>...</td>\n",
       "      <td>...</td>\n",
       "    </tr>\n",
       "    <tr>\n",
       "      <th>3382</th>\n",
       "      <td>The Quake</td>\n",
       "      <td>Magn.</td>\n",
       "      <td>6200.0</td>\n",
       "      <td>NaN</td>\n",
       "      <td>2018</td>\n",
       "    </tr>\n",
       "    <tr>\n",
       "      <th>3383</th>\n",
       "      <td>Edward II (2018 re-release)</td>\n",
       "      <td>FM</td>\n",
       "      <td>4800.0</td>\n",
       "      <td>NaN</td>\n",
       "      <td>2018</td>\n",
       "    </tr>\n",
       "    <tr>\n",
       "      <th>3384</th>\n",
       "      <td>El Pacto</td>\n",
       "      <td>Sony</td>\n",
       "      <td>2500.0</td>\n",
       "      <td>NaN</td>\n",
       "      <td>2018</td>\n",
       "    </tr>\n",
       "    <tr>\n",
       "      <th>3385</th>\n",
       "      <td>The Swan</td>\n",
       "      <td>Synergetic</td>\n",
       "      <td>2400.0</td>\n",
       "      <td>NaN</td>\n",
       "      <td>2018</td>\n",
       "    </tr>\n",
       "    <tr>\n",
       "      <th>3386</th>\n",
       "      <td>An Actor Prepares</td>\n",
       "      <td>Grav.</td>\n",
       "      <td>1700.0</td>\n",
       "      <td>NaN</td>\n",
       "      <td>2018</td>\n",
       "    </tr>\n",
       "  </tbody>\n",
       "</table>\n",
       "<p>3387 rows × 5 columns</p>\n",
       "</div>"
      ],
      "text/plain": [
       "                                            title      studio  domestic_gross  \\\n",
       "0                                     Toy Story 3          BV     415000000.0   \n",
       "1                      Alice in Wonderland (2010)          BV     334200000.0   \n",
       "2     Harry Potter and the Deathly Hallows Part 1          WB     296000000.0   \n",
       "3                                       Inception          WB     292600000.0   \n",
       "4                             Shrek Forever After        P/DW     238700000.0   \n",
       "...                                           ...         ...             ...   \n",
       "3382                                    The Quake       Magn.          6200.0   \n",
       "3383                  Edward II (2018 re-release)          FM          4800.0   \n",
       "3384                                     El Pacto        Sony          2500.0   \n",
       "3385                                     The Swan  Synergetic          2400.0   \n",
       "3386                            An Actor Prepares       Grav.          1700.0   \n",
       "\n",
       "     foreign_gross  year  \n",
       "0        652000000  2010  \n",
       "1        691300000  2010  \n",
       "2        664300000  2010  \n",
       "3        535700000  2010  \n",
       "4        513900000  2010  \n",
       "...            ...   ...  \n",
       "3382           NaN  2018  \n",
       "3383           NaN  2018  \n",
       "3384           NaN  2018  \n",
       "3385           NaN  2018  \n",
       "3386           NaN  2018  \n",
       "\n",
       "[3387 rows x 5 columns]"
      ]
     },
     "execution_count": 128,
     "metadata": {},
     "output_type": "execute_result"
    }
   ],
   "source": [
    "# Load the csv into a pandas dataframe \n",
    "bom = pd.read_csv('zippedData/bom.movie_gross.csv.gz')\n",
    "bom"
   ]
  },
  {
   "cell_type": "code",
   "execution_count": 129,
   "metadata": {},
   "outputs": [
    {
     "name": "stdout",
     "output_type": "stream",
     "text": [
      "<class 'pandas.core.frame.DataFrame'>\n",
      "RangeIndex: 3387 entries, 0 to 3386\n",
      "Data columns (total 5 columns):\n",
      " #   Column          Non-Null Count  Dtype  \n",
      "---  ------          --------------  -----  \n",
      " 0   title           3387 non-null   object \n",
      " 1   studio          3382 non-null   object \n",
      " 2   domestic_gross  3359 non-null   float64\n",
      " 3   foreign_gross   2037 non-null   object \n",
      " 4   year            3387 non-null   int64  \n",
      "dtypes: float64(1), int64(1), object(3)\n",
      "memory usage: 132.4+ KB\n"
     ]
    }
   ],
   "source": [
    "#Looking at the structure of the data set \n",
    "bom.info()"
   ]
  },
  {
   "cell_type": "code",
   "execution_count": 130,
   "metadata": {},
   "outputs": [
    {
     "data": {
      "text/html": [
       "<div>\n",
       "<style scoped>\n",
       "    .dataframe tbody tr th:only-of-type {\n",
       "        vertical-align: middle;\n",
       "    }\n",
       "\n",
       "    .dataframe tbody tr th {\n",
       "        vertical-align: top;\n",
       "    }\n",
       "\n",
       "    .dataframe thead th {\n",
       "        text-align: right;\n",
       "    }\n",
       "</style>\n",
       "<table border=\"1\" class=\"dataframe\">\n",
       "  <thead>\n",
       "    <tr style=\"text-align: right;\">\n",
       "      <th></th>\n",
       "      <th>domestic_gross</th>\n",
       "      <th>year</th>\n",
       "    </tr>\n",
       "  </thead>\n",
       "  <tbody>\n",
       "    <tr>\n",
       "      <th>count</th>\n",
       "      <td>3.359000e+03</td>\n",
       "      <td>3387.000000</td>\n",
       "    </tr>\n",
       "    <tr>\n",
       "      <th>mean</th>\n",
       "      <td>2.874585e+07</td>\n",
       "      <td>2013.958075</td>\n",
       "    </tr>\n",
       "    <tr>\n",
       "      <th>std</th>\n",
       "      <td>6.698250e+07</td>\n",
       "      <td>2.478141</td>\n",
       "    </tr>\n",
       "    <tr>\n",
       "      <th>min</th>\n",
       "      <td>1.000000e+02</td>\n",
       "      <td>2010.000000</td>\n",
       "    </tr>\n",
       "    <tr>\n",
       "      <th>25%</th>\n",
       "      <td>1.200000e+05</td>\n",
       "      <td>2012.000000</td>\n",
       "    </tr>\n",
       "    <tr>\n",
       "      <th>50%</th>\n",
       "      <td>1.400000e+06</td>\n",
       "      <td>2014.000000</td>\n",
       "    </tr>\n",
       "    <tr>\n",
       "      <th>75%</th>\n",
       "      <td>2.790000e+07</td>\n",
       "      <td>2016.000000</td>\n",
       "    </tr>\n",
       "    <tr>\n",
       "      <th>max</th>\n",
       "      <td>9.367000e+08</td>\n",
       "      <td>2018.000000</td>\n",
       "    </tr>\n",
       "  </tbody>\n",
       "</table>\n",
       "</div>"
      ],
      "text/plain": [
       "       domestic_gross         year\n",
       "count    3.359000e+03  3387.000000\n",
       "mean     2.874585e+07  2013.958075\n",
       "std      6.698250e+07     2.478141\n",
       "min      1.000000e+02  2010.000000\n",
       "25%      1.200000e+05  2012.000000\n",
       "50%      1.400000e+06  2014.000000\n",
       "75%      2.790000e+07  2016.000000\n",
       "max      9.367000e+08  2018.000000"
      ]
     },
     "execution_count": 130,
     "metadata": {},
     "output_type": "execute_result"
    }
   ],
   "source": [
    "#Getting thr drescriptive statistics of the dataset\n",
    "bom.describe()"
   ]
  },
  {
   "cell_type": "code",
   "execution_count": 131,
   "metadata": {},
   "outputs": [
    {
     "name": "stdout",
     "output_type": "stream",
     "text": [
      "The dataset has 3387 rows and 5 columns\n"
     ]
    }
   ],
   "source": [
    "print('The dataset has ' + str(bom.shape[0]) + ' rows and ' + str(bom.shape[1]) + ' columns')"
   ]
  },
  {
   "cell_type": "markdown",
   "metadata": {},
   "source": [
    "Now that we know what our datasets contain and their features we can begin on cleaning it up for analysis"
   ]
  },
  {
   "cell_type": "markdown",
   "metadata": {},
   "source": [
    "# 3.Data Cleaning\n",
    "\n",
    "Checking for Validity, Accuracy, Completeness, Consistency and Uniformity of the Data.\n",
    "Data cleaning is necessary in order to ensure the accuracy of the final result of data analysis.To ensure this the consistency,quality and validity of the data has to be checked\n",
    "\n",
    "\n",
    "The first step is checking if the datatypes of all the columns makes sense to our data"
   ]
  },
  {
   "cell_type": "code",
   "execution_count": 132,
   "metadata": {},
   "outputs": [
    {
     "name": "stdout",
     "output_type": "stream",
     "text": [
      "<class 'pandas.core.frame.DataFrame'>\n",
      "RangeIndex: 146144 entries, 0 to 146143\n",
      "Data columns (total 6 columns):\n",
      " #   Column           Non-Null Count   Dtype  \n",
      "---  ------           --------------   -----  \n",
      " 0   movie_id         146144 non-null  object \n",
      " 1   primary_title    146144 non-null  object \n",
      " 2   original_title   146123 non-null  object \n",
      " 3   start_year       146144 non-null  int64  \n",
      " 4   runtime_minutes  114405 non-null  float64\n",
      " 5   genres           140736 non-null  object \n",
      "dtypes: float64(1), int64(1), object(4)\n",
      "memory usage: 6.7+ MB\n"
     ]
    }
   ],
   "source": [
    "#For all datasets check columns Datatypes\n",
    "basic.info()"
   ]
  },
  {
   "cell_type": "code",
   "execution_count": 133,
   "metadata": {},
   "outputs": [
    {
     "name": "stdout",
     "output_type": "stream",
     "text": [
      "<class 'pandas.core.frame.DataFrame'>\n",
      "RangeIndex: 73856 entries, 0 to 73855\n",
      "Data columns (total 3 columns):\n",
      " #   Column         Non-Null Count  Dtype  \n",
      "---  ------         --------------  -----  \n",
      " 0   movie_id       73856 non-null  object \n",
      " 1   averagerating  73856 non-null  float64\n",
      " 2   numvotes       73856 non-null  int64  \n",
      "dtypes: float64(1), int64(1), object(1)\n",
      "memory usage: 1.7+ MB\n"
     ]
    }
   ],
   "source": [
    "rate.info()"
   ]
  },
  {
   "cell_type": "code",
   "execution_count": 134,
   "metadata": {},
   "outputs": [
    {
     "name": "stdout",
     "output_type": "stream",
     "text": [
      "<class 'pandas.core.frame.DataFrame'>\n",
      "RangeIndex: 3387 entries, 0 to 3386\n",
      "Data columns (total 5 columns):\n",
      " #   Column          Non-Null Count  Dtype  \n",
      "---  ------          --------------  -----  \n",
      " 0   title           3387 non-null   object \n",
      " 1   studio          3382 non-null   object \n",
      " 2   domestic_gross  3359 non-null   float64\n",
      " 3   foreign_gross   2037 non-null   object \n",
      " 4   year            3387 non-null   int64  \n",
      "dtypes: float64(1), int64(1), object(3)\n",
      "memory usage: 132.4+ KB\n"
     ]
    }
   ],
   "source": [
    "bom.info()"
   ]
  },
  {
   "cell_type": "markdown",
   "metadata": {},
   "source": [
    "* As it can be seen above the foreign_gross column datatype is an object while it would be more relevant for it to be a float.Below the      datatypes will be changed"
   ]
  },
  {
   "cell_type": "code",
   "execution_count": 135,
   "metadata": {},
   "outputs": [],
   "source": [
    "#strip the objects of an punctuation or white space and change\n",
    "#the column type from object to float\n",
    "\n",
    "bom['foreign_gross'] = bom['foreign_gross'].str.replace(',','').astype(float)"
   ]
  },
  {
   "cell_type": "code",
   "execution_count": 136,
   "metadata": {},
   "outputs": [
    {
     "name": "stdout",
     "output_type": "stream",
     "text": [
      "<class 'pandas.core.frame.DataFrame'>\n",
      "RangeIndex: 3387 entries, 0 to 3386\n",
      "Data columns (total 5 columns):\n",
      " #   Column          Non-Null Count  Dtype  \n",
      "---  ------          --------------  -----  \n",
      " 0   title           3387 non-null   object \n",
      " 1   studio          3382 non-null   object \n",
      " 2   domestic_gross  3359 non-null   float64\n",
      " 3   foreign_gross   2037 non-null   float64\n",
      " 4   year            3387 non-null   int64  \n",
      "dtypes: float64(2), int64(1), object(2)\n",
      "memory usage: 132.4+ KB\n"
     ]
    }
   ],
   "source": [
    "#Check to see if changes applied\n",
    "bom.info()"
   ]
  },
  {
   "cell_type": "markdown",
   "metadata": {},
   "source": [
    "Duplicates Should as be checked for"
   ]
  },
  {
   "cell_type": "code",
   "execution_count": 137,
   "metadata": {},
   "outputs": [
    {
     "name": "stdout",
     "output_type": "stream",
     "text": [
      "The movies_basics has 0 duplicates\n",
      "The movies_ratings has 0 duplicates\n",
      "The Box Office Mojo dataset has 0 duplicates\n"
     ]
    }
   ],
   "source": [
    "#Identify datasets with with duplicates\n",
    "print('The movies_basics has ' + str(basic.duplicated().sum()) + ' duplicates')\n",
    "print('The movies_ratings has ' + str(rate.duplicated().sum()) + ' duplicates')\n",
    "print('The Box Office Mojo dataset has ' + str(basic.duplicated().sum()) + ' duplicates')"
   ]
  },
  {
   "cell_type": "markdown",
   "metadata": {},
   "source": [
    "Null values in your datasets can also have a major impact on the accuracy of data analysis and can make the recommendations misleading\n",
    "\n",
    "\n",
    "Next check for null values in the datasets"
   ]
  },
  {
   "cell_type": "code",
   "execution_count": 138,
   "metadata": {},
   "outputs": [
    {
     "data": {
      "text/plain": [
       "movie_id               0\n",
       "primary_title          0\n",
       "original_title        21\n",
       "start_year             0\n",
       "runtime_minutes    31739\n",
       "genres              5408\n",
       "dtype: int64"
      ]
     },
     "execution_count": 138,
     "metadata": {},
     "output_type": "execute_result"
    }
   ],
   "source": [
    "#If any check for the number of null values in each column\n",
    "basic.isnull().sum()"
   ]
  },
  {
   "cell_type": "code",
   "execution_count": 139,
   "metadata": {},
   "outputs": [
    {
     "data": {
      "text/plain": [
       "movie_id         0\n",
       "averagerating    0\n",
       "numvotes         0\n",
       "dtype: int64"
      ]
     },
     "execution_count": 139,
     "metadata": {},
     "output_type": "execute_result"
    }
   ],
   "source": [
    "rate.isnull().sum()"
   ]
  },
  {
   "cell_type": "code",
   "execution_count": 140,
   "metadata": {},
   "outputs": [
    {
     "data": {
      "text/plain": [
       "title                0\n",
       "studio               5\n",
       "domestic_gross      28\n",
       "foreign_gross     1350\n",
       "year                 0\n",
       "dtype: int64"
      ]
     },
     "execution_count": 140,
     "metadata": {},
     "output_type": "execute_result"
    }
   ],
   "source": [
    "bom.isnull().sum()"
   ]
  },
  {
   "cell_type": "markdown",
   "metadata": {},
   "source": [
    "* As it can be see above both the movie_basics table and the B.O.M dataset have missing values which have to be delt with\n",
    "* To deal with the columns with a relatively small number of values, the rows with with those missing values in those respective columns can be droped."
   ]
  },
  {
   "cell_type": "code",
   "execution_count": 141,
   "metadata": {},
   "outputs": [],
   "source": [
    "#Drop the rows with missing values in the genre and original_title columns in the movie_ratings table \n",
    "basic = basic.dropna(subset= ['genres'])\n",
    "basic = basic.dropna(subset= ['original_title'])"
   ]
  },
  {
   "cell_type": "code",
   "execution_count": 142,
   "metadata": {},
   "outputs": [],
   "source": [
    "#Drop the rows with missing values in studio column in the B.O.M dataframe\n",
    "bom.dropna(subset= ['studio'], inplace=True)"
   ]
  },
  {
   "cell_type": "markdown",
   "metadata": {},
   "source": [
    "* For the remaining columns the process will be replacing the null values with the median of the values in the column\n",
    "* The reason for this is because the median has less effect on the distribution of the data set"
   ]
  },
  {
   "cell_type": "code",
   "execution_count": 143,
   "metadata": {},
   "outputs": [],
   "source": [
    "#Replace the null values in the domestic_gross and foreign_gross column with the column's median\n",
    "bom['domestic_gross'].fillna(bom['domestic_gross'].median(), inplace=True)\n",
    "bom['foreign_gross'].fillna(bom['foreign_gross'].median(), inplace=True)"
   ]
  },
  {
   "cell_type": "code",
   "execution_count": 144,
   "metadata": {},
   "outputs": [],
   "source": [
    "#Replace the null values in the runtime_minutes column with the column's median\n",
    "basic['runtime_minutes'].fillna(basic['runtime_minutes'].median(), inplace=True)"
   ]
  },
  {
   "cell_type": "markdown",
   "metadata": {},
   "source": [
    "#"
   ]
  },
  {
   "cell_type": "markdown",
   "metadata": {},
   "source": [
    "# 4.Data Analysis\n",
    "* Now that we have cleaned our data to ensure its quality we can begin the analysis part of the project which will enable us to come up with recommendations that can best advice the decisions of the new movie studio\n",
    "\n",
    "## 4.1.Univariate Data Analysis\n",
    "* In this section the individual columns are the target analysis, the aim is to see the patterns inside each column \n",
    "* First column to look at is the genre column in the movie_basics table "
   ]
  },
  {
   "cell_type": "code",
   "execution_count": 145,
   "metadata": {},
   "outputs": [
    {
     "name": "stdout",
     "output_type": "stream",
     "text": [
      "<class 'pandas.core.frame.DataFrame'>\n",
      "Int64Index: 140734 entries, 0 to 146143\n",
      "Data columns (total 6 columns):\n",
      " #   Column           Non-Null Count   Dtype  \n",
      "---  ------           --------------   -----  \n",
      " 0   movie_id         140734 non-null  object \n",
      " 1   primary_title    140734 non-null  object \n",
      " 2   original_title   140734 non-null  object \n",
      " 3   start_year       140734 non-null  int64  \n",
      " 4   runtime_minutes  140734 non-null  float64\n",
      " 5   genres           140734 non-null  object \n",
      "dtypes: float64(1), int64(1), object(4)\n",
      "memory usage: 7.5+ MB\n"
     ]
    }
   ],
   "source": [
    "# Look for the unique values and the number of times they appear in the table\n",
    "basic.info()"
   ]
  },
  {
   "cell_type": "code",
   "execution_count": 146,
   "metadata": {},
   "outputs": [
    {
     "data": {
      "image/png": "[encoded data removed]",
      "text/plain": [
       "<Figure size 864x360 with 1 Axes>"
      ]
     },
     "metadata": {},
     "output_type": "display_data"
    }
   ],
   "source": [
    "# Plot a barChart for the 20 most common movie genres\n",
    "ax = basic['genres'].value_counts()[:20].plot(figsize = (12,5), kind= 'bar')\n",
    "ax.set_xticklabels(ax.get_xticklabels(), rotation=90)\n",
    "# set the y-axis label\n",
    "ax.set_ylabel(\"Number of movies\")\n",
    "# set the title\n",
    "ax.set_title(\"Distribution of Movies by Genre\");\n"
   ]
  },
  {
   "cell_type": "markdown",
   "metadata": {},
   "source": [
    "* As it can be seen above the most common genre of movies is Documentaries followed by Dramas and so on.This can help the movie studio decide on the genre of movies they want to make based on the above observation\n",
    "* Next we can look at the runtime_minutes column in movie_basics.This might give us an idea on how long movies made by the movie studio should be"
   ]
  },
  {
   "cell_type": "code",
   "execution_count": 147,
   "metadata": {},
   "outputs": [
    {
     "name": "stdout",
     "output_type": "stream",
     "text": [
      "count    140734.000000\n",
      "mean         86.411109\n",
      "std         149.934410\n",
      "min           1.000000\n",
      "25%          75.000000\n",
      "50%          87.000000\n",
      "75%          95.000000\n",
      "max       51420.000000\n",
      "Name: runtime_minutes, dtype: float64\n",
      "The median value of the column is: 87.0\n",
      "The mode value of the column is: 87.0\n",
      "The range of the column is: 51419.0\n"
     ]
    }
   ],
   "source": [
    "# Get the descriptive statistics of the column \n",
    "print(basic['runtime_minutes'].describe())\n",
    "print('The median value of the column is: ' + str(basic['runtime_minutes'].median()))\n",
    "print('The mode value of the column is: ' + str(basic['runtime_minutes'].mode()[0]))\n",
    "print('The range of the column is: ' + str(basic['runtime_minutes'].max() - basic['runtime_minutes'].min()))"
   ]
  },
  {
   "cell_type": "markdown",
   "metadata": {},
   "source": [
    "* Above it can be seen that the data has a symmetrical distribution.The average length of most movies in the table is 86 minutes.It can also be seen from the standard deviation that the data is spread out from the mean indicating a high possibility of outliers.This indicates that a number of movies are longer than 86 minutes"
   ]
  },
  {
   "cell_type": "code",
   "execution_count": 148,
   "metadata": {},
   "outputs": [
    {
     "name": "stdout",
     "output_type": "stream",
     "text": [
      "Number of outliers in runtime_minutes: 12823\n"
     ]
    },
    {
     "data": {
      "image/png": "[encoded data removed]",
      "text/plain": [
       "<Figure size 648x504 with 1 Axes>"
      ]
     },
     "metadata": {},
     "output_type": "display_data"
    }
   ],
   "source": [
    "# Make a boxplot to see if they're any outliers\n",
    "basic['runtime_minutes'].plot.box(figsize=(9,7))\n",
    "\n",
    "# Find the number of outliers\n",
    "tf = basic['runtime_minutes'].quantile(.25)\n",
    "sf = basic['runtime_minutes'].quantile(.75)\n",
    "IQR = sf - tf \n",
    "outliers = basic[(basic.runtime_minutes < tf - 1.5* IQR)  |\n",
    "                    (basic.runtime_minutes > sf + 1.5 * IQR) ]\n",
    "print('Number of outliers in runtime_minutes: ' + str(outliers.runtime_minutes.count()))"
   ]
  },
  {
   "cell_type": "markdown",
   "metadata": {},
   "source": [
    "* As it can be seen the number of outliers is big and removing them will greatly disturb the distribution of the graph hence it would be more logical to keep them \n",
    "\n",
    "* Next we look at the B.O.M dataset columns which tell us how much money a movie grossed both domestically and in other countries"
   ]
  },
  {
   "cell_type": "code",
   "execution_count": 149,
   "metadata": {},
   "outputs": [
    {
     "name": "stdout",
     "output_type": "stream",
     "text": [
      "For domestic_gross column:\n",
      "count    3.382000e+03\n",
      "mean     2.856106e+07\n",
      "std      6.679161e+07\n",
      "min      1.000000e+02\n",
      "25%      1.230000e+05\n",
      "50%      1.400000e+06\n",
      "75%      2.767500e+07\n",
      "max      9.367000e+08\n",
      "Name: domestic_gross, dtype: float64\n",
      "The median value of the column is: 1400000.0\n",
      "The mode value of the column is: 1400000.0\n",
      "The range of the column is: 936699900.0\n",
      "\n",
      "For foreign_gross column:\n",
      "count    3.382000e+03\n",
      "mean     5.251615e+07\n",
      "std      1.101098e+08\n",
      "min      6.000000e+02\n",
      "25%      1.170000e+07\n",
      "50%      1.870000e+07\n",
      "75%      2.917500e+07\n",
      "max      9.605000e+08\n",
      "Name: foreign_gross, dtype: float64\n",
      "The median value of the column is: 18700000.0\n",
      "The mode value of the column is: 18700000.0\n",
      "The range of the column is: 960499400.0\n"
     ]
    }
   ],
   "source": [
    "# look at the descriptive characteristics of the domestic_gross column\n",
    "print('For domestic_gross column:\\n' + str(bom['domestic_gross'].describe()))\n",
    "print('The median value of the column is: ' + str(bom['domestic_gross'].median()))\n",
    "print('The mode value of the column is: ' + str(bom['domestic_gross'].mode()[0]))\n",
    "print('The range of the column is: ' + str(bom['domestic_gross'].max() - bom['domestic_gross'].min()) + '\\n')\n",
    "\n",
    "#look at the descriptive characteristics of the foreign_gross column\n",
    "print('For foreign_gross column:\\n' + str(bom['foreign_gross'].describe()))\n",
    "print('The median value of the column is: ' + str(bom['foreign_gross'].median()))\n",
    "print('The mode value of the column is: ' + str(bom['foreign_gross'].mode()[0]))\n",
    "print('The range of the column is: ' + str(bom['foreign_gross'].max() - bom['foreign_gross'].min()))\n"
   ]
  },
  {
   "cell_type": "code",
   "execution_count": 150,
   "metadata": {},
   "outputs": [
    {
     "data": {
      "image/png": "[encoded data removed]",
      "text/plain": [
       "<Figure size 720x504 with 2 Axes>"
      ]
     },
     "metadata": {},
     "output_type": "display_data"
    }
   ],
   "source": [
    "#Plot histograms and check skewed distribution of both columns\n",
    "bom.hist(figsize= (10,7), column= ['domestic_gross','foreign_gross'], bins=20);"
   ]
  },
  {
   "cell_type": "markdown",
   "metadata": {},
   "source": [
    "* The data above shows us that the domestic_gross column we see the descriptive statistics which are the mean, 25th percentile, maximum of the table values and so on.The standard deviation is high telling us the data has large spread from the mean.From the histogram we see it has a right skew distribution.This indicates that the most common domestic gross amount is less than the average\n",
    "* Also for the foreign_gross column the descriptive statistics can be seen,the standard deviation is low telling us that the spread is minimal.The column also has a right skewed distribution also indicating that the most common foreign gross amount is less than the average gross amount\n",
    "\n",
    "* The columns in the movie_ratings table can also be analyzed "
   ]
  },
  {
   "cell_type": "code",
   "execution_count": 151,
   "metadata": {},
   "outputs": [
    {
     "name": "stdout",
     "output_type": "stream",
     "text": [
      "For averagerating column:\n",
      "count    73856.000000\n",
      "mean         6.332729\n",
      "std          1.474978\n",
      "min          1.000000\n",
      "25%          5.500000\n",
      "50%          6.500000\n",
      "75%          7.400000\n",
      "max         10.000000\n",
      "Name: averagerating, dtype: float64\n",
      "The median value of the column is: 6.5\n",
      "The mode value of the column is: 7.0\n",
      "The range of the column is: 9.0\n",
      "\n",
      "For numvotes column:\n",
      "count    7.385600e+04\n",
      "mean     3.523662e+03\n",
      "std      3.029402e+04\n",
      "min      5.000000e+00\n",
      "25%      1.400000e+01\n",
      "50%      4.900000e+01\n",
      "75%      2.820000e+02\n",
      "max      1.841066e+06\n",
      "Name: numvotes, dtype: float64\n",
      "The median value of the column is: 49.0\n",
      "The mode value of the column is: 6\n",
      "The range of the column is: 1841061\n",
      "\n"
     ]
    }
   ],
   "source": [
    "#Get averagerating descriptive characteristics\n",
    "print('For averagerating column:\\n' + str(rate['averagerating'].describe()))\n",
    "print('The median value of the column is: ' + str(rate['averagerating'].median()))\n",
    "print('The mode value of the column is: ' + str(rate['averagerating'].mode()[0]))\n",
    "print('The range of the column is: ' + str(rate['averagerating'].max() - rate['averagerating'].min()) + '\\n')\n",
    "\n",
    "#Get numvotes descriptive characteristics\n",
    "print('For numvotes column:\\n' + str(rate['numvotes'].describe()))\n",
    "print('The median value of the column is: ' + str(rate['numvotes'].median()))\n",
    "print('The mode value of the column is: ' + str(rate['numvotes'].mode()[0]))\n",
    "print('The range of the column is: ' + str(rate['numvotes'].max() - rate['numvotes'].min()) + '\\n')"
   ]
  },
  {
   "cell_type": "markdown",
   "metadata": {},
   "source": [
    "* From above data we can see that the averagerating column has a low stander deviation this can indicate presence of low number of outliers which can be removed from the dataset to get more logical descriptive analysis.This can be show in a box plot"
   ]
  },
  {
   "cell_type": "code",
   "execution_count": 152,
   "metadata": {},
   "outputs": [
    {
     "name": "stdout",
     "output_type": "stream",
     "text": [
      "Number of outliers in averagerating: 1172\n",
      "Number of outliers in numvotes: 11758\n"
     ]
    }
   ],
   "source": [
    "#Check for outliers\n",
    "Q1 = rate['averagerating'].quantile(.25)\n",
    "Q3 = rate['averagerating'].quantile(.75)\n",
    "IQR = Q3 - Q1 \n",
    "outliers = rate[(rate['averagerating'] < Q1 - 1.5* IQR)  |\n",
    "                    (rate['averagerating'] > Q3 + 1.5 * IQR) ]\n",
    "print('Number of outliers in averagerating: ' + str(outliers.averagerating.count()))\n",
    "\n",
    "Q_1 = rate['numvotes'].quantile(.25)\n",
    "Q_3 = rate['numvotes'].quantile(.75)\n",
    "IQR_ = Q_3 - Q_1\n",
    "outliers = rate[(rate['numvotes'] < Q_1 - 1.5* IQR_)  |\n",
    "                    (rate['numvotes'] > Q_3 + 1.5 * IQR_) ]\n",
    "print('Number of outliers in numvotes: ' + str(outliers.numvotes.count()));"
   ]
  },
  {
   "cell_type": "code",
   "execution_count": 153,
   "metadata": {},
   "outputs": [
    {
     "data": {
      "image/png": "[encoded data removed]",
      "text/plain": [
       "<Figure size 432x288 with 1 Axes>"
      ]
     },
     "metadata": {},
     "output_type": "display_data"
    }
   ],
   "source": [
    "# Make a box plot to look for outliers for outliers in averagerating\n",
    "sns.boxplot(x = rate['averagerating']);"
   ]
  },
  {
   "cell_type": "code",
   "execution_count": 154,
   "metadata": {},
   "outputs": [],
   "source": [
    "#Remove the outliers\n",
    "lower = Q1 - 1.5* IQR\n",
    "upper = Q3 + 1.5 * IQR\n",
    "rate= rate[(rate['averagerating'] > lower) & (rate['averagerating'] < upper)]"
   ]
  },
  {
   "cell_type": "code",
   "execution_count": 155,
   "metadata": {},
   "outputs": [
    {
     "data": {
      "image/png": "[encoded data removed]",
      "text/plain": [
       "<Figure size 432x288 with 1 Axes>"
      ]
     },
     "metadata": {},
     "output_type": "display_data"
    }
   ],
   "source": [
    "#Check if outliers removed\n",
    "sns.boxplot(x = rate['averagerating']);"
   ]
  },
  {
   "cell_type": "code",
   "execution_count": 156,
   "metadata": {},
   "outputs": [
    {
     "name": "stdout",
     "output_type": "stream",
     "text": [
      "For averagerating column:\n",
      "count    72684.000000\n",
      "mean         6.401956\n",
      "std          1.380133\n",
      "min          2.700000\n",
      "25%          5.500000\n",
      "50%          6.500000\n",
      "75%          7.400000\n",
      "max         10.000000\n",
      "Name: averagerating, dtype: float64\n",
      "The median value of the column is: 6.5\n",
      "The mode value of the column is: 7.0\n",
      "The range of the column is: 7.3\n",
      "\n"
     ]
    }
   ],
   "source": [
    "#Look at new descriptive characteristics\n",
    "print('For averagerating column:\\n' + str(rate['averagerating'].describe()))\n",
    "print('The median value of the column is: ' + str(rate['averagerating'].median()))\n",
    "print('The mode value of the column is: ' + str(rate['averagerating'].mode()[0]))\n",
    "print('The range of the column is: ' + str(rate['averagerating'].max() - rate['averagerating'].min()) + '\\n')"
   ]
  },
  {
   "cell_type": "code",
   "execution_count": 157,
   "metadata": {},
   "outputs": [
    {
     "data": {
      "image/png": "[encoded data removed]",
      "text/plain": [
       "<Figure size 432x288 with 1 Axes>"
      ]
     },
     "metadata": {},
     "output_type": "display_data"
    }
   ],
   "source": [
    "\n",
    "## Make a box plot to look for outliers for outliers in numvotes\n",
    "sns.boxplot(x = rate['numvotes']);"
   ]
  },
  {
   "cell_type": "markdown",
   "metadata": {},
   "source": [
    "* As it can be seen unlike the outliers in averagerating the ones in numvotes will have a hugr effect on the data if removed hence they will remain\n",
    "* Below the distribution of the columns is diplayed "
   ]
  },
  {
   "cell_type": "code",
   "execution_count": 158,
   "metadata": {},
   "outputs": [
    {
     "data": {
      "image/png": "[encoded data removed]",
      "text/plain": [
       "<Figure size 720x504 with 2 Axes>"
      ]
     },
     "metadata": {},
     "output_type": "display_data"
    }
   ],
   "source": [
    "rate.hist(figsize= (10,7), column= ['averagerating','numvotes'], bins=10);"
   ]
  },
  {
   "cell_type": "markdown",
   "metadata": {},
   "source": [
    "* It can be seen above that the averagerating column has slightly skewed distribution,hence most movies get ratings that are close 6.4\n",
    "* For the numvotes column it has a right skewed distribution meaning most number of votes a movies get sre below the average this is due to the presence of movies with a very high number of votes(outliers)"
   ]
  },
  {
   "cell_type": "markdown",
   "metadata": {},
   "source": [
    "## 4.2.Bivariate Data Analysis\n",
    "\n",
    "* Now that we have seen the patterns in the individual columns we can begin looking at their relation if any\n",
    "* In the B.O.M dataset a relation between its table can be looked for"
   ]
  },
  {
   "cell_type": "code",
   "execution_count": 159,
   "metadata": {},
   "outputs": [
    {
     "data": {
      "image/png": "[encoded data removed]",
      "text/plain": [
       "<Figure size 720x432 with 2 Axes>"
      ]
     },
     "metadata": {},
     "output_type": "display_data"
    }
   ],
   "source": [
    "#Plot scatter plots with a regression module\n",
    "domesticG = bom['domestic_gross']\n",
    "foreignG = bom['foreign_gross']\n",
    "\n",
    "fig, ax =plt.subplots(1,2, figsize= (10,6))\n",
    "sns.regplot(x= foreignG, y= domesticG, line_kws={'color': 'g'}, ax= ax[0])\n",
    "sns.regplot(x= domesticG, y= foreignG, line_kws={'color': 'g'}, ax= ax[1]);"
   ]
  },
  {
   "cell_type": "code",
   "execution_count": 160,
   "metadata": {},
   "outputs": [
    {
     "name": "stdout",
     "output_type": "stream",
     "text": [
      "Pearson coefficient of domestic_gross and foreign_gross is: 0.7840594568087651\n"
     ]
    }
   ],
   "source": [
    "#Check the correlation\n",
    "correlation = domesticG.corr(foreignG, method= 'pearson')\n",
    "print('Pearson coefficient of domestic_gross and foreign_gross is: ' + str(correlation))"
   ]
  },
  {
   "cell_type": "markdown",
   "metadata": {},
   "source": [
    "* As it can be seen above from both the scatter plot, regression line and the pearson coefficient that the two tables have a strong positive correlation.It can also be seen that the slope in the second plot is steeper than the slope of the first plot.This indicates that movies that earn a higher domestic gross earn foreign gross at faster rate\n",
    "\n",
    "* Below we can take a look at the relation in the ratings table between its tables"
   ]
  },
  {
   "cell_type": "code",
   "execution_count": 161,
   "metadata": {},
   "outputs": [
    {
     "data": {
      "image/png": "[encoded data removed]",
      "text/plain": [
       "<Figure size 720x432 with 2 Axes>"
      ]
     },
     "metadata": {},
     "output_type": "display_data"
    }
   ],
   "source": [
    "#Plot scatter plots with a regression module\n",
    "ratings = rate['averagerating']\n",
    "votes = rate['numvotes']\n",
    "fig, ax =plt.subplots(1,2, figsize= (10,6))\n",
    "sns.regplot(x= votes, y= ratings, line_kws={'color': 'g'}, ax= ax[0])\n",
    "sns.regplot(x= ratings, y= votes, line_kws={'color': 'g'}, ax= ax[1]);"
   ]
  },
  {
   "cell_type": "code",
   "execution_count": 162,
   "metadata": {},
   "outputs": [
    {
     "name": "stdout",
     "output_type": "stream",
     "text": [
      "Pearson coefficient of votes and ratings is: 0.04310089637963958\n"
     ]
    }
   ],
   "source": [
    "#Check the correlation\n",
    "coefficient = ratings.corr(votes, method= 'pearson')\n",
    "print('Pearson coefficient of votes and ratings is: ' + str(coefficient))"
   ]
  },
  {
   "cell_type": "markdown",
   "metadata": {},
   "source": [
    "* From the scatter plot and pearsons coefficient the ratings and number of votes of movies have a weak positive correlation.It can be seen in the first plot that a majority of movie ratings are determined by a low number of votes, but movies who have a high number of votes generally have a rating above 5.\n",
    " \n",
    " * Since both movie_basics and movie_ratings tables are on the same database we can see they share a one-to-one relationship on the movie_id column, which seems to be the primary key in both table\n",
    " * Presence of a key will enable us to merge the two tables together so we can see the relation between the different columns.This will we done on the shared primary on a left join since movie_ratings has less records compared to movie_basics"
   ]
  },
  {
   "cell_type": "code",
   "execution_count": 163,
   "metadata": {},
   "outputs": [],
   "source": [
    "#Merge the tables\n",
    "ratings_and_basics = pd.merge(rate, basic, how=\"left\", on= 'movie_id')"
   ]
  },
  {
   "cell_type": "markdown",
   "metadata": {},
   "source": [
    "* The relationship between the genres and number of votes can be found by grouping them into a seperate dataframe "
   ]
  },
  {
   "cell_type": "code",
   "execution_count": 164,
   "metadata": {},
   "outputs": [
    {
     "data": {
      "text/html": [
       "<div>\n",
       "<style scoped>\n",
       "    .dataframe tbody tr th:only-of-type {\n",
       "        vertical-align: middle;\n",
       "    }\n",
       "\n",
       "    .dataframe tbody tr th {\n",
       "        vertical-align: top;\n",
       "    }\n",
       "\n",
       "    .dataframe thead th {\n",
       "        text-align: right;\n",
       "    }\n",
       "</style>\n",
       "<table border=\"1\" class=\"dataframe\">\n",
       "  <thead>\n",
       "    <tr style=\"text-align: right;\">\n",
       "      <th></th>\n",
       "      <th>genres</th>\n",
       "      <th>numvotes</th>\n",
       "    </tr>\n",
       "  </thead>\n",
       "  <tbody>\n",
       "    <tr>\n",
       "      <th>833</th>\n",
       "      <td>Game-Show</td>\n",
       "      <td>7</td>\n",
       "    </tr>\n",
       "    <tr>\n",
       "      <th>264</th>\n",
       "      <td>Adventure,Romance,Sci-Fi</td>\n",
       "      <td>6</td>\n",
       "    </tr>\n",
       "    <tr>\n",
       "      <th>243</th>\n",
       "      <td>Adventure,Fantasy,War</td>\n",
       "      <td>6</td>\n",
       "    </tr>\n",
       "    <tr>\n",
       "      <th>414</th>\n",
       "      <td>Biography,History,Music</td>\n",
       "      <td>6</td>\n",
       "    </tr>\n",
       "    <tr>\n",
       "      <th>279</th>\n",
       "      <td>Animation,Biography,Fantasy</td>\n",
       "      <td>6</td>\n",
       "    </tr>\n",
       "    <tr>\n",
       "      <th>645</th>\n",
       "      <td>Documentary,History,Musical</td>\n",
       "      <td>6</td>\n",
       "    </tr>\n",
       "    <tr>\n",
       "      <th>358</th>\n",
       "      <td>Animation,Western</td>\n",
       "      <td>6</td>\n",
       "    </tr>\n",
       "    <tr>\n",
       "      <th>812</th>\n",
       "      <td>Fantasy,Horror,Music</td>\n",
       "      <td>6</td>\n",
       "    </tr>\n",
       "    <tr>\n",
       "      <th>217</th>\n",
       "      <td>Adventure,Drama,Musical</td>\n",
       "      <td>6</td>\n",
       "    </tr>\n",
       "    <tr>\n",
       "      <th>342</th>\n",
       "      <td>Animation,Horror,Romance</td>\n",
       "      <td>6</td>\n",
       "    </tr>\n",
       "    <tr>\n",
       "      <th>664</th>\n",
       "      <td>Documentary,Music,Reality-TV</td>\n",
       "      <td>6</td>\n",
       "    </tr>\n",
       "    <tr>\n",
       "      <th>721</th>\n",
       "      <td>Drama,History,News</td>\n",
       "      <td>6</td>\n",
       "    </tr>\n",
       "    <tr>\n",
       "      <th>447</th>\n",
       "      <td>Comedy,Documentary,Fantasy</td>\n",
       "      <td>5</td>\n",
       "    </tr>\n",
       "    <tr>\n",
       "      <th>877</th>\n",
       "      <td>Music,Mystery</td>\n",
       "      <td>5</td>\n",
       "    </tr>\n",
       "    <tr>\n",
       "      <th>77</th>\n",
       "      <td>Action,Documentary,Horror</td>\n",
       "      <td>5</td>\n",
       "    </tr>\n",
       "    <tr>\n",
       "      <th>846</th>\n",
       "      <td>History,Sport</td>\n",
       "      <td>5</td>\n",
       "    </tr>\n",
       "    <tr>\n",
       "      <th>607</th>\n",
       "      <td>Crime,Western</td>\n",
       "      <td>5</td>\n",
       "    </tr>\n",
       "    <tr>\n",
       "      <th>66</th>\n",
       "      <td>Action,Crime,Musical</td>\n",
       "      <td>5</td>\n",
       "    </tr>\n",
       "    <tr>\n",
       "      <th>857</th>\n",
       "      <td>Horror,Musical,Romance</td>\n",
       "      <td>5</td>\n",
       "    </tr>\n",
       "    <tr>\n",
       "      <th>805</th>\n",
       "      <td>Family,War</td>\n",
       "      <td>5</td>\n",
       "    </tr>\n",
       "  </tbody>\n",
       "</table>\n",
       "</div>"
      ],
      "text/plain": [
       "                           genres  numvotes\n",
       "833                     Game-Show         7\n",
       "264      Adventure,Romance,Sci-Fi         6\n",
       "243         Adventure,Fantasy,War         6\n",
       "414       Biography,History,Music         6\n",
       "279   Animation,Biography,Fantasy         6\n",
       "645   Documentary,History,Musical         6\n",
       "358             Animation,Western         6\n",
       "812          Fantasy,Horror,Music         6\n",
       "217       Adventure,Drama,Musical         6\n",
       "342      Animation,Horror,Romance         6\n",
       "664  Documentary,Music,Reality-TV         6\n",
       "721            Drama,History,News         6\n",
       "447    Comedy,Documentary,Fantasy         5\n",
       "877                 Music,Mystery         5\n",
       "77      Action,Documentary,Horror         5\n",
       "846                 History,Sport         5\n",
       "607                 Crime,Western         5\n",
       "66           Action,Crime,Musical         5\n",
       "857        Horror,Musical,Romance         5\n",
       "805                    Family,War         5"
      ]
     },
     "execution_count": 164,
     "metadata": {},
     "output_type": "execute_result"
    }
   ],
   "source": [
    "#Look for the genres with the least number of votes\n",
    "bottom_20 = ratings_and_basics.groupby('genres', as_index= False)['numvotes'].sum().sort_values('numvotes', ascending= False).tail(20)\n",
    "bottom_20"
   ]
  },
  {
   "cell_type": "markdown",
   "metadata": {},
   "source": [
    "\n",
    "# 5.Conclusion"
   ]
  },
  {
   "cell_type": "markdown",
   "metadata": {},
   "source": [
    "* From the data analysis carried out on the data available to us some conclusions can be derived from our observations\n",
    "<ol>\n",
    "   <li>The 20 most common movie genres are:Documentary , Drama , Comedy , Horror , Comedy,Drama , Thriller , Action , Biography,Documentary , DramaRomance Comedy,Drama,Romance , Documentary,Drama , Comedy,Romance , Romance , Documentary,Music , Drama,Thriller , Documentary,History , HorrorThriller , Biography,Documentary,History , Biography,Documentary,Drama , Family</li>\n",
    "   <li>The average length of a movie is 86 minutes but a number of movies tend to be longer or short </li>\n",
    "   <li>For both domestic gross majority of movies get less than the average gross amount</li>\n",
    "   <li>Movies that a large domestic gross amount have larger foreign gross amount compared to movies with small domestic gross amount</li>\n",
    "   <li>Majority of movies get a rating of 6</li> \n",
    "   <li>Majority of the average numbrer of votes are low numbers</li>  \n",
    "   <li>Majority of movie ratings are determined by a low number of votes</li>\n",
    "   <li>The genres with the least number of number of results can be found in 4.2 section</li> \n",
    "</ol>   "
   ]
  },
  {
   "cell_type": "markdown",
   "metadata": {},
   "source": [
    "\n",
    "# 5.Recommendations"
   ]
  },
  {
   "cell_type": "markdown",
   "metadata": {},
   "source": [
    "* My recommendations to the new movie studio are:\n",
    "     <ol>\n",
    "        <li>Genres of the movies should be selected from the most common genres and genres that get the most average votes</li>\n",
    "        <li>The length of the movies should be more than average 86 minutes</li>\n",
    "        <li>The movies made should target the domestic market although higher income comes from foreign</li>\n",
    "        <li>Genres with a low number of average votes should be avoided since this may indicate a small audience</li>"
   ]
  },
  {
   "cell_type": "markdown",
   "metadata": {},
   "source": [
    "\n",
    "# 6.Next Step \n",
    "* If more analysis is done genres which are liked more by the domestic market can be identified\n",
    "* Popularities of movies can also be based of the actors present in the movie\n",
    "* The average spending amount to make certain genre movies\n",
    "* Comparing amount spent on a movie and amount returned"
   ]
  }
 ],
 "metadata": {
  "kernelspec": {
   "display_name": "Python (learn-env)",
   "language": "python",
   "name": "learn-env"
  },
  "language_info": {
   "codemirror_mode": {
    "name": "ipython",
    "version": 3
   },
   "file_extension": ".py",
   "mimetype": "text/x-python",
   "name": "python",
   "nbconvert_exporter": "python",
   "pygments_lexer": "ipython3",
   "version": "3.8.5"
  }
 },
 "nbformat": 4,
 "nbformat_minor": 2
}
